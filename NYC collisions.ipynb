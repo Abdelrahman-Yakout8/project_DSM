{
 "cells": [
  {
   "cell_type": "markdown",
   "id": "e190b1b0-4c0e-455a-b73a-cd90db0c2070",
   "metadata": {},
   "source": [
    "# Importing libraries #"
   ]
  },
  {
   "cell_type": "code",
   "execution_count": 2,
   "id": "f654dfbb",
   "metadata": {},
   "outputs": [
    {
     "name": "stdout",
     "output_type": "stream",
     "text": [
      "Requirement already satisfied: geopandas in c:\\users\\hp\\lib\\site-packages (1.0.1)\n",
      "Requirement already satisfied: folium in c:\\users\\hp\\lib\\site-packages (0.19.2)\n",
      "Requirement already satisfied: numpy>=1.22 in c:\\users\\hp\\lib\\site-packages (from geopandas) (1.26.4)\n",
      "Requirement already satisfied: pyogrio>=0.7.2 in c:\\users\\hp\\lib\\site-packages (from geopandas) (0.10.0)\n",
      "Requirement already satisfied: packaging in c:\\users\\hp\\lib\\site-packages (from geopandas) (24.0)\n",
      "Requirement already satisfied: pandas>=1.4.0 in c:\\users\\hp\\lib\\site-packages (from geopandas) (2.2.2)\n",
      "Requirement already satisfied: pyproj>=3.3.0 in c:\\users\\hp\\lib\\site-packages (from geopandas) (3.7.0)\n",
      "Requirement already satisfied: shapely>=2.0.0 in c:\\users\\hp\\lib\\site-packages (from geopandas) (2.0.6)\n",
      "Requirement already satisfied: branca>=0.6.0 in c:\\users\\hp\\lib\\site-packages (from folium) (0.8.0)\n",
      "Requirement already satisfied: jinja2>=2.9 in c:\\users\\hp\\lib\\site-packages (from folium) (3.1.4)\n",
      "Requirement already satisfied: requests in c:\\users\\hp\\lib\\site-packages (from folium) (2.32.3)\n",
      "Requirement already satisfied: xyzservices in c:\\users\\hp\\lib\\site-packages (from folium) (2024.9.0)\n",
      "Requirement already satisfied: MarkupSafe>=2.0 in c:\\users\\hp\\lib\\site-packages (from jinja2>=2.9->folium) (2.1.5)\n",
      "Requirement already satisfied: python-dateutil>=2.8.2 in c:\\users\\hp\\lib\\site-packages (from pandas>=1.4.0->geopandas) (2.9.0.post0)\n",
      "Requirement already satisfied: pytz>=2020.1 in c:\\users\\hp\\lib\\site-packages (from pandas>=1.4.0->geopandas) (2024.1)\n",
      "Requirement already satisfied: tzdata>=2022.7 in c:\\users\\hp\\lib\\site-packages (from pandas>=1.4.0->geopandas) (2024.1)\n",
      "Requirement already satisfied: certifi in c:\\users\\hp\\lib\\site-packages (from pyogrio>=0.7.2->geopandas) (2024.6.2)\n",
      "Requirement already satisfied: charset-normalizer<4,>=2 in c:\\users\\hp\\lib\\site-packages (from requests->folium) (3.3.2)\n",
      "Requirement already satisfied: idna<4,>=2.5 in c:\\users\\hp\\lib\\site-packages (from requests->folium) (3.7)\n",
      "Requirement already satisfied: urllib3<3,>=1.21.1 in c:\\users\\hp\\lib\\site-packages (from requests->folium) (2.2.1)\n",
      "Requirement already satisfied: six>=1.5 in c:\\users\\hp\\lib\\site-packages (from python-dateutil>=2.8.2->pandas>=1.4.0->geopandas) (1.16.0)\n"
     ]
    }
   ],
   "source": [
    "!pip install geopandas folium"
   ]
  },
  {
   "cell_type": "code",
   "execution_count": 3,
   "id": "da77ab55-fb8f-4f87-be44-437bcc313d8b",
   "metadata": {},
   "outputs": [],
   "source": [
    "import pandas as pd # type: ignore\n",
    "import seaborn as sns # type: ignore\n",
    "import matplotlib.pyplot as plt # type: ignore\n",
    "import datetime as dt\n",
    "import numpy as np # type: ignore\n",
    "import geopandas as gpd # type: ignore\n",
    "import folium # type: ignore\n"
   ]
  },
  {
   "cell_type": "markdown",
   "id": "f3857b1c-6961-411a-8e70-7ce6a2678395",
   "metadata": {},
   "source": [
    "## Importing the dataset and checking it ##"
   ]
  },
  {
   "cell_type": "code",
   "execution_count": 4,
   "id": "c8c1d6ed-8556-4e75-a740-4a50f499f736",
   "metadata": {},
   "outputs": [
    {
     "data": {
      "text/html": [
       "<div>\n",
       "<style scoped>\n",
       "    .dataframe tbody tr th:only-of-type {\n",
       "        vertical-align: middle;\n",
       "    }\n",
       "\n",
       "    .dataframe tbody tr th {\n",
       "        vertical-align: top;\n",
       "    }\n",
       "\n",
       "    .dataframe thead th {\n",
       "        text-align: right;\n",
       "    }\n",
       "</style>\n",
       "<table border=\"1\" class=\"dataframe\">\n",
       "  <thead>\n",
       "    <tr style=\"text-align: right;\">\n",
       "      <th></th>\n",
       "      <th>Collision ID</th>\n",
       "      <th>Date</th>\n",
       "      <th>Time</th>\n",
       "      <th>Borough</th>\n",
       "      <th>Street Name</th>\n",
       "      <th>Cross Street</th>\n",
       "      <th>Latitude</th>\n",
       "      <th>Longitude</th>\n",
       "      <th>Contributing Factor</th>\n",
       "      <th>Vehicle Type</th>\n",
       "      <th>Persons Injured</th>\n",
       "      <th>Persons Killed</th>\n",
       "      <th>Pedestrians Injured</th>\n",
       "      <th>Pedestrians Killed</th>\n",
       "      <th>Cyclists Injured</th>\n",
       "      <th>Cyclists Killed</th>\n",
       "      <th>Motorists Injured</th>\n",
       "      <th>Motorists Killed</th>\n",
       "    </tr>\n",
       "  </thead>\n",
       "  <tbody>\n",
       "    <tr>\n",
       "      <th>0</th>\n",
       "      <td>4491746</td>\n",
       "      <td>2021-01-01</td>\n",
       "      <td>20:00:00</td>\n",
       "      <td>Bronx</td>\n",
       "      <td>Bruckner Expressway</td>\n",
       "      <td>NaN</td>\n",
       "      <td>40.833980</td>\n",
       "      <td>-73.826350</td>\n",
       "      <td>Pavement Slippery</td>\n",
       "      <td>Passenger Vehicle</td>\n",
       "      <td>0.0</td>\n",
       "      <td>0</td>\n",
       "      <td>0</td>\n",
       "      <td>0</td>\n",
       "      <td>0</td>\n",
       "      <td>0</td>\n",
       "      <td>0</td>\n",
       "      <td>0</td>\n",
       "    </tr>\n",
       "    <tr>\n",
       "      <th>1</th>\n",
       "      <td>4441905</td>\n",
       "      <td>2021-01-01</td>\n",
       "      <td>05:28:00</td>\n",
       "      <td>Brooklyn</td>\n",
       "      <td>Lafayette Avenue</td>\n",
       "      <td>NaN</td>\n",
       "      <td>40.687300</td>\n",
       "      <td>-73.973656</td>\n",
       "      <td>Unspecified</td>\n",
       "      <td>Passenger Vehicle</td>\n",
       "      <td>0.0</td>\n",
       "      <td>0</td>\n",
       "      <td>0</td>\n",
       "      <td>0</td>\n",
       "      <td>0</td>\n",
       "      <td>0</td>\n",
       "      <td>0</td>\n",
       "      <td>0</td>\n",
       "    </tr>\n",
       "    <tr>\n",
       "      <th>2</th>\n",
       "      <td>4382769</td>\n",
       "      <td>2021-01-01</td>\n",
       "      <td>06:00:00</td>\n",
       "      <td>Staten Island</td>\n",
       "      <td>West Shore Expressway</td>\n",
       "      <td>NaN</td>\n",
       "      <td>NaN</td>\n",
       "      <td>NaN</td>\n",
       "      <td>Fell Asleep</td>\n",
       "      <td>Passenger Vehicle</td>\n",
       "      <td>0.0</td>\n",
       "      <td>0</td>\n",
       "      <td>0</td>\n",
       "      <td>0</td>\n",
       "      <td>0</td>\n",
       "      <td>0</td>\n",
       "      <td>0</td>\n",
       "      <td>0</td>\n",
       "    </tr>\n",
       "    <tr>\n",
       "      <th>3</th>\n",
       "      <td>4380949</td>\n",
       "      <td>2021-01-01</td>\n",
       "      <td>19:30:00</td>\n",
       "      <td>Bronx</td>\n",
       "      <td>Sedgwick Avenue</td>\n",
       "      <td>Vancortlandt Avenue West</td>\n",
       "      <td>40.882700</td>\n",
       "      <td>-73.892730</td>\n",
       "      <td>NaN</td>\n",
       "      <td>Not Reported</td>\n",
       "      <td>0.0</td>\n",
       "      <td>0</td>\n",
       "      <td>0</td>\n",
       "      <td>0</td>\n",
       "      <td>0</td>\n",
       "      <td>0</td>\n",
       "      <td>0</td>\n",
       "      <td>0</td>\n",
       "    </tr>\n",
       "    <tr>\n",
       "      <th>4</th>\n",
       "      <td>4380940</td>\n",
       "      <td>2021-01-01</td>\n",
       "      <td>07:40:00</td>\n",
       "      <td>Brooklyn</td>\n",
       "      <td>Cortelyou Road</td>\n",
       "      <td>Mc Donald Avenue</td>\n",
       "      <td>40.637910</td>\n",
       "      <td>-73.978640</td>\n",
       "      <td>Unspecified</td>\n",
       "      <td>Passenger Vehicle</td>\n",
       "      <td>0.0</td>\n",
       "      <td>0</td>\n",
       "      <td>0</td>\n",
       "      <td>0</td>\n",
       "      <td>0</td>\n",
       "      <td>0</td>\n",
       "      <td>0</td>\n",
       "      <td>0</td>\n",
       "    </tr>\n",
       "    <tr>\n",
       "      <th>5</th>\n",
       "      <td>4380963</td>\n",
       "      <td>2021-01-01</td>\n",
       "      <td>18:45:00</td>\n",
       "      <td>Manhattan</td>\n",
       "      <td>Harlem River Drive</td>\n",
       "      <td>NaN</td>\n",
       "      <td>40.848630</td>\n",
       "      <td>-73.927620</td>\n",
       "      <td>Pedestrian/Bicyclist/Other Pedestrian Error/Co...</td>\n",
       "      <td>Passenger Vehicle</td>\n",
       "      <td>0.0</td>\n",
       "      <td>0</td>\n",
       "      <td>0</td>\n",
       "      <td>0</td>\n",
       "      <td>0</td>\n",
       "      <td>0</td>\n",
       "      <td>0</td>\n",
       "      <td>0</td>\n",
       "    </tr>\n",
       "    <tr>\n",
       "      <th>6</th>\n",
       "      <td>4381116</td>\n",
       "      <td>2021-01-01</td>\n",
       "      <td>04:51:00</td>\n",
       "      <td>Brooklyn</td>\n",
       "      <td>Junius Street</td>\n",
       "      <td>NaN</td>\n",
       "      <td>40.660090</td>\n",
       "      <td>-73.900550</td>\n",
       "      <td>Other Vehicular</td>\n",
       "      <td>Passenger Vehicle</td>\n",
       "      <td>0.0</td>\n",
       "      <td>0</td>\n",
       "      <td>0</td>\n",
       "      <td>0</td>\n",
       "      <td>0</td>\n",
       "      <td>0</td>\n",
       "      <td>0</td>\n",
       "      <td>0</td>\n",
       "    </tr>\n",
       "    <tr>\n",
       "      <th>7</th>\n",
       "      <td>4382500</td>\n",
       "      <td>2021-01-01</td>\n",
       "      <td>16:14:00</td>\n",
       "      <td>Brooklyn</td>\n",
       "      <td>Morgan Avenue</td>\n",
       "      <td>NaN</td>\n",
       "      <td>40.705807</td>\n",
       "      <td>-73.931760</td>\n",
       "      <td>Passing Too Closely</td>\n",
       "      <td>Passenger Vehicle</td>\n",
       "      <td>0.0</td>\n",
       "      <td>0</td>\n",
       "      <td>0</td>\n",
       "      <td>0</td>\n",
       "      <td>0</td>\n",
       "      <td>0</td>\n",
       "      <td>0</td>\n",
       "      <td>0</td>\n",
       "    </tr>\n",
       "    <tr>\n",
       "      <th>8</th>\n",
       "      <td>4381082</td>\n",
       "      <td>2021-01-01</td>\n",
       "      <td>22:15:00</td>\n",
       "      <td>Brooklyn</td>\n",
       "      <td>Utica Avenue</td>\n",
       "      <td>East New York Avenue</td>\n",
       "      <td>40.663227</td>\n",
       "      <td>-73.931590</td>\n",
       "      <td>Unspecified</td>\n",
       "      <td>Passenger Vehicle</td>\n",
       "      <td>0.0</td>\n",
       "      <td>0</td>\n",
       "      <td>0</td>\n",
       "      <td>0</td>\n",
       "      <td>0</td>\n",
       "      <td>0</td>\n",
       "      <td>0</td>\n",
       "      <td>0</td>\n",
       "    </tr>\n",
       "    <tr>\n",
       "      <th>9</th>\n",
       "      <td>4381388</td>\n",
       "      <td>2021-01-01</td>\n",
       "      <td>12:00:00</td>\n",
       "      <td>Brooklyn</td>\n",
       "      <td>Elton Street</td>\n",
       "      <td>NaN</td>\n",
       "      <td>40.671482</td>\n",
       "      <td>-73.882840</td>\n",
       "      <td>Unspecified</td>\n",
       "      <td>Passenger Vehicle</td>\n",
       "      <td>0.0</td>\n",
       "      <td>0</td>\n",
       "      <td>0</td>\n",
       "      <td>0</td>\n",
       "      <td>0</td>\n",
       "      <td>0</td>\n",
       "      <td>0</td>\n",
       "      <td>0</td>\n",
       "    </tr>\n",
       "  </tbody>\n",
       "</table>\n",
       "</div>"
      ],
      "text/plain": [
       "   Collision ID        Date      Time        Borough            Street Name  \\\n",
       "0       4491746  2021-01-01  20:00:00          Bronx    Bruckner Expressway   \n",
       "1       4441905  2021-01-01  05:28:00       Brooklyn       Lafayette Avenue   \n",
       "2       4382769  2021-01-01  06:00:00  Staten Island  West Shore Expressway   \n",
       "3       4380949  2021-01-01  19:30:00          Bronx        Sedgwick Avenue   \n",
       "4       4380940  2021-01-01  07:40:00       Brooklyn         Cortelyou Road   \n",
       "5       4380963  2021-01-01  18:45:00      Manhattan     Harlem River Drive   \n",
       "6       4381116  2021-01-01  04:51:00       Brooklyn          Junius Street   \n",
       "7       4382500  2021-01-01  16:14:00       Brooklyn          Morgan Avenue   \n",
       "8       4381082  2021-01-01  22:15:00       Brooklyn           Utica Avenue   \n",
       "9       4381388  2021-01-01  12:00:00       Brooklyn           Elton Street   \n",
       "\n",
       "               Cross Street   Latitude  Longitude  \\\n",
       "0                       NaN  40.833980 -73.826350   \n",
       "1                       NaN  40.687300 -73.973656   \n",
       "2                       NaN        NaN        NaN   \n",
       "3  Vancortlandt Avenue West  40.882700 -73.892730   \n",
       "4          Mc Donald Avenue  40.637910 -73.978640   \n",
       "5                       NaN  40.848630 -73.927620   \n",
       "6                       NaN  40.660090 -73.900550   \n",
       "7                       NaN  40.705807 -73.931760   \n",
       "8      East New York Avenue  40.663227 -73.931590   \n",
       "9                       NaN  40.671482 -73.882840   \n",
       "\n",
       "                                 Contributing Factor       Vehicle Type  \\\n",
       "0                                  Pavement Slippery  Passenger Vehicle   \n",
       "1                                        Unspecified  Passenger Vehicle   \n",
       "2                                        Fell Asleep  Passenger Vehicle   \n",
       "3                                                NaN       Not Reported   \n",
       "4                                        Unspecified  Passenger Vehicle   \n",
       "5  Pedestrian/Bicyclist/Other Pedestrian Error/Co...  Passenger Vehicle   \n",
       "6                                    Other Vehicular  Passenger Vehicle   \n",
       "7                                Passing Too Closely  Passenger Vehicle   \n",
       "8                                        Unspecified  Passenger Vehicle   \n",
       "9                                        Unspecified  Passenger Vehicle   \n",
       "\n",
       "   Persons Injured  Persons Killed  Pedestrians Injured  Pedestrians Killed  \\\n",
       "0              0.0               0                    0                   0   \n",
       "1              0.0               0                    0                   0   \n",
       "2              0.0               0                    0                   0   \n",
       "3              0.0               0                    0                   0   \n",
       "4              0.0               0                    0                   0   \n",
       "5              0.0               0                    0                   0   \n",
       "6              0.0               0                    0                   0   \n",
       "7              0.0               0                    0                   0   \n",
       "8              0.0               0                    0                   0   \n",
       "9              0.0               0                    0                   0   \n",
       "\n",
       "   Cyclists Injured  Cyclists Killed  Motorists Injured  Motorists Killed  \n",
       "0                 0                0                  0                 0  \n",
       "1                 0                0                  0                 0  \n",
       "2                 0                0                  0                 0  \n",
       "3                 0                0                  0                 0  \n",
       "4                 0                0                  0                 0  \n",
       "5                 0                0                  0                 0  \n",
       "6                 0                0                  0                 0  \n",
       "7                 0                0                  0                 0  \n",
       "8                 0                0                  0                 0  \n",
       "9                 0                0                  0                 0  "
      ]
     },
     "execution_count": 4,
     "metadata": {},
     "output_type": "execute_result"
    }
   ],
   "source": [
    "df = pd.read_csv(r'C:\\Users\\HP\\Downloads\\program files\\Web_scrapping\\NYC_Collisions.csv')\n",
    "df.head(10)"
   ]
  },
  {
   "cell_type": "code",
   "execution_count": 5,
   "id": "f581c314-1454-4549-99f7-bfe43827cf02",
   "metadata": {},
   "outputs": [
    {
     "name": "stdout",
     "output_type": "stream",
     "text": [
      "<class 'pandas.core.frame.DataFrame'>\n",
      "RangeIndex: 238421 entries, 0 to 238420\n",
      "Data columns (total 18 columns):\n",
      " #   Column               Non-Null Count   Dtype  \n",
      "---  ------               --------------   -----  \n",
      " 0   Collision ID         238421 non-null  int64  \n",
      " 1   Date                 238421 non-null  object \n",
      " 2   Time                 238421 non-null  object \n",
      " 3   Borough              231224 non-null  object \n",
      " 4   Street Name          238058 non-null  object \n",
      " 5   Cross Street         111291 non-null  object \n",
      " 6   Latitude             216098 non-null  float64\n",
      " 7   Longitude            216098 non-null  float64\n",
      " 8   Contributing Factor  237134 non-null  object \n",
      " 9   Vehicle Type         238421 non-null  object \n",
      " 10  Persons Injured      238420 non-null  float64\n",
      " 11  Persons Killed       238421 non-null  int64  \n",
      " 12  Pedestrians Injured  238421 non-null  int64  \n",
      " 13  Pedestrians Killed   238421 non-null  int64  \n",
      " 14  Cyclists Injured     238421 non-null  int64  \n",
      " 15  Cyclists Killed      238421 non-null  int64  \n",
      " 16  Motorists Injured    238421 non-null  int64  \n",
      " 17  Motorists Killed     238421 non-null  int64  \n",
      "dtypes: float64(3), int64(8), object(7)\n",
      "memory usage: 32.7+ MB\n"
     ]
    }
   ],
   "source": [
    "df.info()"
   ]
  },
  {
   "cell_type": "code",
   "execution_count": 6,
   "id": "6c6832c2-95a9-427d-80dc-99d239263d29",
   "metadata": {
    "collapsed": true,
    "jupyter": {
     "outputs_hidden": true
    }
   },
   "outputs": [
    {
     "data": {
      "text/html": [
       "<div>\n",
       "<style scoped>\n",
       "    .dataframe tbody tr th:only-of-type {\n",
       "        vertical-align: middle;\n",
       "    }\n",
       "\n",
       "    .dataframe tbody tr th {\n",
       "        vertical-align: top;\n",
       "    }\n",
       "\n",
       "    .dataframe thead th {\n",
       "        text-align: right;\n",
       "    }\n",
       "</style>\n",
       "<table border=\"1\" class=\"dataframe\">\n",
       "  <thead>\n",
       "    <tr style=\"text-align: right;\">\n",
       "      <th></th>\n",
       "      <th>Collision ID</th>\n",
       "      <th>Latitude</th>\n",
       "      <th>Longitude</th>\n",
       "      <th>Persons Injured</th>\n",
       "      <th>Persons Killed</th>\n",
       "      <th>Pedestrians Injured</th>\n",
       "      <th>Pedestrians Killed</th>\n",
       "      <th>Cyclists Injured</th>\n",
       "      <th>Cyclists Killed</th>\n",
       "      <th>Motorists Injured</th>\n",
       "      <th>Motorists Killed</th>\n",
       "    </tr>\n",
       "  </thead>\n",
       "  <tbody>\n",
       "    <tr>\n",
       "      <th>count</th>\n",
       "      <td>2.384210e+05</td>\n",
       "      <td>216098.000000</td>\n",
       "      <td>216098.000000</td>\n",
       "      <td>238420.000000</td>\n",
       "      <td>238421.000000</td>\n",
       "      <td>238421.000000</td>\n",
       "      <td>238421.000000</td>\n",
       "      <td>238421.000000</td>\n",
       "      <td>238421.000000</td>\n",
       "      <td>238421.00000</td>\n",
       "      <td>238421.000000</td>\n",
       "    </tr>\n",
       "    <tr>\n",
       "      <th>mean</th>\n",
       "      <td>4.500533e+06</td>\n",
       "      <td>40.724492</td>\n",
       "      <td>-73.916623</td>\n",
       "      <td>0.487484</td>\n",
       "      <td>0.002663</td>\n",
       "      <td>0.079175</td>\n",
       "      <td>0.001200</td>\n",
       "      <td>0.045852</td>\n",
       "      <td>0.000197</td>\n",
       "      <td>0.34153</td>\n",
       "      <td>0.001124</td>\n",
       "    </tr>\n",
       "    <tr>\n",
       "      <th>std</th>\n",
       "      <td>6.887904e+04</td>\n",
       "      <td>0.081815</td>\n",
       "      <td>0.084120</td>\n",
       "      <td>0.806650</td>\n",
       "      <td>0.053535</td>\n",
       "      <td>0.285696</td>\n",
       "      <td>0.034855</td>\n",
       "      <td>0.212723</td>\n",
       "      <td>0.014039</td>\n",
       "      <td>0.77766</td>\n",
       "      <td>0.036041</td>\n",
       "    </tr>\n",
       "    <tr>\n",
       "      <th>min</th>\n",
       "      <td>4.073803e+06</td>\n",
       "      <td>40.499710</td>\n",
       "      <td>-74.254960</td>\n",
       "      <td>0.000000</td>\n",
       "      <td>0.000000</td>\n",
       "      <td>0.000000</td>\n",
       "      <td>0.000000</td>\n",
       "      <td>0.000000</td>\n",
       "      <td>0.000000</td>\n",
       "      <td>0.00000</td>\n",
       "      <td>0.000000</td>\n",
       "    </tr>\n",
       "    <tr>\n",
       "      <th>25%</th>\n",
       "      <td>4.440909e+06</td>\n",
       "      <td>40.666386</td>\n",
       "      <td>-73.962950</td>\n",
       "      <td>0.000000</td>\n",
       "      <td>0.000000</td>\n",
       "      <td>0.000000</td>\n",
       "      <td>0.000000</td>\n",
       "      <td>0.000000</td>\n",
       "      <td>0.000000</td>\n",
       "      <td>0.00000</td>\n",
       "      <td>0.000000</td>\n",
       "    </tr>\n",
       "    <tr>\n",
       "      <th>50%</th>\n",
       "      <td>4.500549e+06</td>\n",
       "      <td>40.714690</td>\n",
       "      <td>-73.920610</td>\n",
       "      <td>0.000000</td>\n",
       "      <td>0.000000</td>\n",
       "      <td>0.000000</td>\n",
       "      <td>0.000000</td>\n",
       "      <td>0.000000</td>\n",
       "      <td>0.000000</td>\n",
       "      <td>0.00000</td>\n",
       "      <td>0.000000</td>\n",
       "    </tr>\n",
       "    <tr>\n",
       "      <th>75%</th>\n",
       "      <td>4.560178e+06</td>\n",
       "      <td>40.784048</td>\n",
       "      <td>-73.868616</td>\n",
       "      <td>1.000000</td>\n",
       "      <td>0.000000</td>\n",
       "      <td>0.000000</td>\n",
       "      <td>0.000000</td>\n",
       "      <td>0.000000</td>\n",
       "      <td>0.000000</td>\n",
       "      <td>0.00000</td>\n",
       "      <td>0.000000</td>\n",
       "    </tr>\n",
       "    <tr>\n",
       "      <th>max</th>\n",
       "      <td>4.619988e+06</td>\n",
       "      <td>40.912884</td>\n",
       "      <td>-73.700610</td>\n",
       "      <td>40.000000</td>\n",
       "      <td>3.000000</td>\n",
       "      <td>19.000000</td>\n",
       "      <td>2.000000</td>\n",
       "      <td>3.000000</td>\n",
       "      <td>1.000000</td>\n",
       "      <td>40.00000</td>\n",
       "      <td>3.000000</td>\n",
       "    </tr>\n",
       "  </tbody>\n",
       "</table>\n",
       "</div>"
      ],
      "text/plain": [
       "       Collision ID       Latitude      Longitude  Persons Injured  \\\n",
       "count  2.384210e+05  216098.000000  216098.000000    238420.000000   \n",
       "mean   4.500533e+06      40.724492     -73.916623         0.487484   \n",
       "std    6.887904e+04       0.081815       0.084120         0.806650   \n",
       "min    4.073803e+06      40.499710     -74.254960         0.000000   \n",
       "25%    4.440909e+06      40.666386     -73.962950         0.000000   \n",
       "50%    4.500549e+06      40.714690     -73.920610         0.000000   \n",
       "75%    4.560178e+06      40.784048     -73.868616         1.000000   \n",
       "max    4.619988e+06      40.912884     -73.700610        40.000000   \n",
       "\n",
       "       Persons Killed  Pedestrians Injured  Pedestrians Killed  \\\n",
       "count   238421.000000        238421.000000       238421.000000   \n",
       "mean         0.002663             0.079175            0.001200   \n",
       "std          0.053535             0.285696            0.034855   \n",
       "min          0.000000             0.000000            0.000000   \n",
       "25%          0.000000             0.000000            0.000000   \n",
       "50%          0.000000             0.000000            0.000000   \n",
       "75%          0.000000             0.000000            0.000000   \n",
       "max          3.000000            19.000000            2.000000   \n",
       "\n",
       "       Cyclists Injured  Cyclists Killed  Motorists Injured  Motorists Killed  \n",
       "count     238421.000000    238421.000000       238421.00000     238421.000000  \n",
       "mean           0.045852         0.000197            0.34153          0.001124  \n",
       "std            0.212723         0.014039            0.77766          0.036041  \n",
       "min            0.000000         0.000000            0.00000          0.000000  \n",
       "25%            0.000000         0.000000            0.00000          0.000000  \n",
       "50%            0.000000         0.000000            0.00000          0.000000  \n",
       "75%            0.000000         0.000000            0.00000          0.000000  \n",
       "max            3.000000         1.000000           40.00000          3.000000  "
      ]
     },
     "execution_count": 6,
     "metadata": {},
     "output_type": "execute_result"
    }
   ],
   "source": [
    "df.describe()"
   ]
  },
  {
   "cell_type": "code",
   "execution_count": 7,
   "id": "27ac6f78-0951-4c7a-a63a-abf253ac271a",
   "metadata": {},
   "outputs": [
    {
     "data": {
      "text/plain": [
       "(238421, 18)"
      ]
     },
     "execution_count": 7,
     "metadata": {},
     "output_type": "execute_result"
    }
   ],
   "source": [
    "df.shape"
   ]
  },
  {
   "cell_type": "code",
   "execution_count": 8,
   "id": "77af1e1b-566f-4578-88c5-ee017c8bd0d0",
   "metadata": {
    "scrolled": true
   },
   "outputs": [
    {
     "data": {
      "text/plain": [
       "Index(['Collision ID', 'Date', 'Time', 'Borough', 'Street Name',\n",
       "       'Cross Street', 'Latitude', 'Longitude', 'Contributing Factor',\n",
       "       'Vehicle Type', 'Persons Injured', 'Persons Killed',\n",
       "       'Pedestrians Injured', 'Pedestrians Killed', 'Cyclists Injured',\n",
       "       'Cyclists Killed', 'Motorists Injured', 'Motorists Killed'],\n",
       "      dtype='object')"
      ]
     },
     "execution_count": 8,
     "metadata": {},
     "output_type": "execute_result"
    }
   ],
   "source": [
    "df.columns"
   ]
  },
  {
   "cell_type": "markdown",
   "id": "2eff884d-6c6d-45fc-bc4f-d06d6df0856e",
   "metadata": {},
   "source": [
    "## let's clean the data ##"
   ]
  },
  {
   "cell_type": "code",
   "execution_count": 9,
   "id": "60fb59b3-3694-4999-8b35-4ac40f2e9aca",
   "metadata": {
    "scrolled": true
   },
   "outputs": [
    {
     "data": {
      "text/plain": [
       "Collision ID                0\n",
       "Date                        0\n",
       "Time                        0\n",
       "Borough                  7197\n",
       "Street Name               363\n",
       "Cross Street           127130\n",
       "Latitude                22323\n",
       "Longitude               22323\n",
       "Contributing Factor      1287\n",
       "Vehicle Type                0\n",
       "Persons Injured             1\n",
       "Persons Killed              0\n",
       "Pedestrians Injured         0\n",
       "Pedestrians Killed          0\n",
       "Cyclists Injured            0\n",
       "Cyclists Killed             0\n",
       "Motorists Injured           0\n",
       "Motorists Killed            0\n",
       "dtype: int64"
      ]
     },
     "execution_count": 9,
     "metadata": {},
     "output_type": "execute_result"
    }
   ],
   "source": [
    "df.isna().sum()"
   ]
  },
  {
   "cell_type": "code",
   "execution_count": 10,
   "id": "0e14757f-a0a2-4356-845d-9a4b48f15054",
   "metadata": {},
   "outputs": [
    {
     "name": "stdout",
     "output_type": "stream",
     "text": [
      "0\n",
      "0\n"
     ]
    }
   ],
   "source": [
    "print(df.duplicated().sum())\n",
    "# or\n",
    "df_unique = df.drop_duplicates()\n",
    "print(len(df) - len(df_unique))\n",
    "# There is no duplicates"
   ]
  },
  {
   "cell_type": "code",
   "execution_count": 11,
   "id": "176344ce-abba-4c3b-94ff-692b861a2af1",
   "metadata": {},
   "outputs": [],
   "source": [
    "df['Borough'] = df['Borough'].fillna('unspecified')"
   ]
  },
  {
   "cell_type": "code",
   "execution_count": 12,
   "id": "c95c35d9-edda-4171-9191-32e8c22b3034",
   "metadata": {
    "scrolled": true
   },
   "outputs": [],
   "source": [
    "df.dropna(subset=['Contributing Factor','Cross Street'],axis=0 , inplace=True)"
   ]
  },
  {
   "cell_type": "code",
   "execution_count": 13,
   "id": "62fdd8c1-46aa-4739-9d64-a744bac2369d",
   "metadata": {},
   "outputs": [
    {
     "data": {
      "text/plain": [
       "(110561, 18)"
      ]
     },
     "execution_count": 13,
     "metadata": {},
     "output_type": "execute_result"
    }
   ],
   "source": [
    "df.shape"
   ]
  },
  {
   "cell_type": "code",
   "execution_count": 14,
   "id": "6b103160-9aa0-4080-b34d-041f36b2f488",
   "metadata": {
    "scrolled": true
   },
   "outputs": [],
   "source": [
    "# changing the data type of date and time to datetime \n",
    "df['Date'] = pd.to_datetime(df['Date'])"
   ]
  },
  {
   "cell_type": "code",
   "execution_count": 15,
   "id": "915c5604-c71e-435d-90a2-c4b791bc4844",
   "metadata": {},
   "outputs": [],
   "source": [
    "# Deleting unnecessary columns \n",
    "df.drop(columns=['Latitude','Longitude'],inplace=True)"
   ]
  },
  {
   "cell_type": "code",
   "execution_count": 16,
   "id": "eea47bcc-4034-400e-9b58-7ca76a5036e7",
   "metadata": {},
   "outputs": [
    {
     "data": {
      "text/plain": [
       "Collision ID           0\n",
       "Date                   0\n",
       "Time                   0\n",
       "Borough                0\n",
       "Street Name            0\n",
       "Cross Street           0\n",
       "Contributing Factor    0\n",
       "Vehicle Type           0\n",
       "Persons Injured        0\n",
       "Persons Killed         0\n",
       "Pedestrians Injured    0\n",
       "Pedestrians Killed     0\n",
       "Cyclists Injured       0\n",
       "Cyclists Killed        0\n",
       "Motorists Injured      0\n",
       "Motorists Killed       0\n",
       "dtype: int64"
      ]
     },
     "execution_count": 16,
     "metadata": {},
     "output_type": "execute_result"
    }
   ],
   "source": [
    "df.isna().sum()"
   ]
  },
  {
   "cell_type": "code",
   "execution_count": 17,
   "id": "9c2f591d-ddfe-4bc2-aa8c-315a2f05efbf",
   "metadata": {},
   "outputs": [
    {
     "data": {
      "text/html": [
       "<div>\n",
       "<style scoped>\n",
       "    .dataframe tbody tr th:only-of-type {\n",
       "        vertical-align: middle;\n",
       "    }\n",
       "\n",
       "    .dataframe tbody tr th {\n",
       "        vertical-align: top;\n",
       "    }\n",
       "\n",
       "    .dataframe thead th {\n",
       "        text-align: right;\n",
       "    }\n",
       "</style>\n",
       "<table border=\"1\" class=\"dataframe\">\n",
       "  <thead>\n",
       "    <tr style=\"text-align: right;\">\n",
       "      <th></th>\n",
       "      <th>Collision ID</th>\n",
       "      <th>Date</th>\n",
       "      <th>Time</th>\n",
       "      <th>Borough</th>\n",
       "      <th>Street Name</th>\n",
       "      <th>Cross Street</th>\n",
       "      <th>Contributing Factor</th>\n",
       "      <th>Vehicle Type</th>\n",
       "      <th>Persons Injured</th>\n",
       "      <th>Persons Killed</th>\n",
       "      <th>Pedestrians Injured</th>\n",
       "      <th>Pedestrians Killed</th>\n",
       "      <th>Cyclists Injured</th>\n",
       "      <th>Cyclists Killed</th>\n",
       "      <th>Motorists Injured</th>\n",
       "      <th>Motorists Killed</th>\n",
       "      <th>Month</th>\n",
       "    </tr>\n",
       "  </thead>\n",
       "  <tbody>\n",
       "    <tr>\n",
       "      <th>4</th>\n",
       "      <td>4380940</td>\n",
       "      <td>2021-01-01</td>\n",
       "      <td>07:40:00</td>\n",
       "      <td>Brooklyn</td>\n",
       "      <td>Cortelyou Road</td>\n",
       "      <td>Mc Donald Avenue</td>\n",
       "      <td>Unspecified</td>\n",
       "      <td>Passenger Vehicle</td>\n",
       "      <td>0.0</td>\n",
       "      <td>0</td>\n",
       "      <td>0</td>\n",
       "      <td>0</td>\n",
       "      <td>0</td>\n",
       "      <td>0</td>\n",
       "      <td>0</td>\n",
       "      <td>0</td>\n",
       "      <td>January</td>\n",
       "    </tr>\n",
       "    <tr>\n",
       "      <th>8</th>\n",
       "      <td>4381082</td>\n",
       "      <td>2021-01-01</td>\n",
       "      <td>22:15:00</td>\n",
       "      <td>Brooklyn</td>\n",
       "      <td>Utica Avenue</td>\n",
       "      <td>East New York Avenue</td>\n",
       "      <td>Unspecified</td>\n",
       "      <td>Passenger Vehicle</td>\n",
       "      <td>0.0</td>\n",
       "      <td>0</td>\n",
       "      <td>0</td>\n",
       "      <td>0</td>\n",
       "      <td>0</td>\n",
       "      <td>0</td>\n",
       "      <td>0</td>\n",
       "      <td>0</td>\n",
       "      <td>January</td>\n",
       "    </tr>\n",
       "    <tr>\n",
       "      <th>10</th>\n",
       "      <td>4380780</td>\n",
       "      <td>2021-01-01</td>\n",
       "      <td>03:00:00</td>\n",
       "      <td>Queens</td>\n",
       "      <td>230 Street</td>\n",
       "      <td>148 Avenue</td>\n",
       "      <td>Unspecified</td>\n",
       "      <td>Passenger Vehicle</td>\n",
       "      <td>0.0</td>\n",
       "      <td>0</td>\n",
       "      <td>0</td>\n",
       "      <td>0</td>\n",
       "      <td>0</td>\n",
       "      <td>0</td>\n",
       "      <td>0</td>\n",
       "      <td>0</td>\n",
       "      <td>January</td>\n",
       "    </tr>\n",
       "    <tr>\n",
       "      <th>15</th>\n",
       "      <td>4381013</td>\n",
       "      <td>2021-01-01</td>\n",
       "      <td>00:25:00</td>\n",
       "      <td>Queens</td>\n",
       "      <td>21 Street</td>\n",
       "      <td>21 Avenue</td>\n",
       "      <td>Fell Asleep</td>\n",
       "      <td>Passenger Vehicle</td>\n",
       "      <td>0.0</td>\n",
       "      <td>0</td>\n",
       "      <td>0</td>\n",
       "      <td>0</td>\n",
       "      <td>0</td>\n",
       "      <td>0</td>\n",
       "      <td>0</td>\n",
       "      <td>0</td>\n",
       "      <td>January</td>\n",
       "    </tr>\n",
       "    <tr>\n",
       "      <th>17</th>\n",
       "      <td>4380783</td>\n",
       "      <td>2021-01-01</td>\n",
       "      <td>06:45:00</td>\n",
       "      <td>Queens</td>\n",
       "      <td>Brookville Boulevard</td>\n",
       "      <td>Rockaway Boulevard</td>\n",
       "      <td>Pavement Slippery</td>\n",
       "      <td>Passenger Vehicle</td>\n",
       "      <td>0.0</td>\n",
       "      <td>0</td>\n",
       "      <td>0</td>\n",
       "      <td>0</td>\n",
       "      <td>0</td>\n",
       "      <td>0</td>\n",
       "      <td>0</td>\n",
       "      <td>0</td>\n",
       "      <td>January</td>\n",
       "    </tr>\n",
       "  </tbody>\n",
       "</table>\n",
       "</div>"
      ],
      "text/plain": [
       "    Collision ID       Date      Time   Borough           Street Name  \\\n",
       "4        4380940 2021-01-01  07:40:00  Brooklyn        Cortelyou Road   \n",
       "8        4381082 2021-01-01  22:15:00  Brooklyn          Utica Avenue   \n",
       "10       4380780 2021-01-01  03:00:00    Queens            230 Street   \n",
       "15       4381013 2021-01-01  00:25:00    Queens             21 Street   \n",
       "17       4380783 2021-01-01  06:45:00    Queens  Brookville Boulevard   \n",
       "\n",
       "            Cross Street Contributing Factor       Vehicle Type  \\\n",
       "4       Mc Donald Avenue         Unspecified  Passenger Vehicle   \n",
       "8   East New York Avenue         Unspecified  Passenger Vehicle   \n",
       "10            148 Avenue         Unspecified  Passenger Vehicle   \n",
       "15             21 Avenue         Fell Asleep  Passenger Vehicle   \n",
       "17    Rockaway Boulevard   Pavement Slippery  Passenger Vehicle   \n",
       "\n",
       "    Persons Injured  Persons Killed  Pedestrians Injured  Pedestrians Killed  \\\n",
       "4               0.0               0                    0                   0   \n",
       "8               0.0               0                    0                   0   \n",
       "10              0.0               0                    0                   0   \n",
       "15              0.0               0                    0                   0   \n",
       "17              0.0               0                    0                   0   \n",
       "\n",
       "    Cyclists Injured  Cyclists Killed  Motorists Injured  Motorists Killed  \\\n",
       "4                  0                0                  0                 0   \n",
       "8                  0                0                  0                 0   \n",
       "10                 0                0                  0                 0   \n",
       "15                 0                0                  0                 0   \n",
       "17                 0                0                  0                 0   \n",
       "\n",
       "      Month  \n",
       "4   January  \n",
       "8   January  \n",
       "10  January  \n",
       "15  January  \n",
       "17  January  "
      ]
     },
     "execution_count": 17,
     "metadata": {},
     "output_type": "execute_result"
    }
   ],
   "source": [
    "df['Month'] = pd.to_datetime(df['Date']).dt.month_name()\n",
    "df.head(5)"
   ]
  },
  {
   "cell_type": "code",
   "execution_count": 18,
   "id": "8befa2c2",
   "metadata": {},
   "outputs": [
    {
     "data": {
      "text/html": [
       "<div>\n",
       "<style scoped>\n",
       "    .dataframe tbody tr th:only-of-type {\n",
       "        vertical-align: middle;\n",
       "    }\n",
       "\n",
       "    .dataframe tbody tr th {\n",
       "        vertical-align: top;\n",
       "    }\n",
       "\n",
       "    .dataframe thead th {\n",
       "        text-align: right;\n",
       "    }\n",
       "</style>\n",
       "<table border=\"1\" class=\"dataframe\">\n",
       "  <thead>\n",
       "    <tr style=\"text-align: right;\">\n",
       "      <th></th>\n",
       "      <th>Collision ID</th>\n",
       "      <th>Date</th>\n",
       "      <th>Time</th>\n",
       "      <th>Borough</th>\n",
       "      <th>Street Name</th>\n",
       "      <th>Cross Street</th>\n",
       "      <th>Contributing Factor</th>\n",
       "      <th>Vehicle Type</th>\n",
       "      <th>Persons Injured</th>\n",
       "      <th>Persons Killed</th>\n",
       "      <th>Pedestrians Injured</th>\n",
       "      <th>Pedestrians Killed</th>\n",
       "      <th>Cyclists Injured</th>\n",
       "      <th>Cyclists Killed</th>\n",
       "      <th>Motorists Injured</th>\n",
       "      <th>Motorists Killed</th>\n",
       "      <th>Month</th>\n",
       "      <th>Day_Week</th>\n",
       "    </tr>\n",
       "  </thead>\n",
       "  <tbody>\n",
       "    <tr>\n",
       "      <th>4</th>\n",
       "      <td>4380940</td>\n",
       "      <td>2021-01-01</td>\n",
       "      <td>07:40:00</td>\n",
       "      <td>Brooklyn</td>\n",
       "      <td>Cortelyou Road</td>\n",
       "      <td>Mc Donald Avenue</td>\n",
       "      <td>Unspecified</td>\n",
       "      <td>Passenger Vehicle</td>\n",
       "      <td>0.0</td>\n",
       "      <td>0</td>\n",
       "      <td>0</td>\n",
       "      <td>0</td>\n",
       "      <td>0</td>\n",
       "      <td>0</td>\n",
       "      <td>0</td>\n",
       "      <td>0</td>\n",
       "      <td>January</td>\n",
       "      <td>Friday</td>\n",
       "    </tr>\n",
       "    <tr>\n",
       "      <th>8</th>\n",
       "      <td>4381082</td>\n",
       "      <td>2021-01-01</td>\n",
       "      <td>22:15:00</td>\n",
       "      <td>Brooklyn</td>\n",
       "      <td>Utica Avenue</td>\n",
       "      <td>East New York Avenue</td>\n",
       "      <td>Unspecified</td>\n",
       "      <td>Passenger Vehicle</td>\n",
       "      <td>0.0</td>\n",
       "      <td>0</td>\n",
       "      <td>0</td>\n",
       "      <td>0</td>\n",
       "      <td>0</td>\n",
       "      <td>0</td>\n",
       "      <td>0</td>\n",
       "      <td>0</td>\n",
       "      <td>January</td>\n",
       "      <td>Friday</td>\n",
       "    </tr>\n",
       "    <tr>\n",
       "      <th>10</th>\n",
       "      <td>4380780</td>\n",
       "      <td>2021-01-01</td>\n",
       "      <td>03:00:00</td>\n",
       "      <td>Queens</td>\n",
       "      <td>230 Street</td>\n",
       "      <td>148 Avenue</td>\n",
       "      <td>Unspecified</td>\n",
       "      <td>Passenger Vehicle</td>\n",
       "      <td>0.0</td>\n",
       "      <td>0</td>\n",
       "      <td>0</td>\n",
       "      <td>0</td>\n",
       "      <td>0</td>\n",
       "      <td>0</td>\n",
       "      <td>0</td>\n",
       "      <td>0</td>\n",
       "      <td>January</td>\n",
       "      <td>Friday</td>\n",
       "    </tr>\n",
       "    <tr>\n",
       "      <th>15</th>\n",
       "      <td>4381013</td>\n",
       "      <td>2021-01-01</td>\n",
       "      <td>00:25:00</td>\n",
       "      <td>Queens</td>\n",
       "      <td>21 Street</td>\n",
       "      <td>21 Avenue</td>\n",
       "      <td>Fell Asleep</td>\n",
       "      <td>Passenger Vehicle</td>\n",
       "      <td>0.0</td>\n",
       "      <td>0</td>\n",
       "      <td>0</td>\n",
       "      <td>0</td>\n",
       "      <td>0</td>\n",
       "      <td>0</td>\n",
       "      <td>0</td>\n",
       "      <td>0</td>\n",
       "      <td>January</td>\n",
       "      <td>Friday</td>\n",
       "    </tr>\n",
       "    <tr>\n",
       "      <th>17</th>\n",
       "      <td>4380783</td>\n",
       "      <td>2021-01-01</td>\n",
       "      <td>06:45:00</td>\n",
       "      <td>Queens</td>\n",
       "      <td>Brookville Boulevard</td>\n",
       "      <td>Rockaway Boulevard</td>\n",
       "      <td>Pavement Slippery</td>\n",
       "      <td>Passenger Vehicle</td>\n",
       "      <td>0.0</td>\n",
       "      <td>0</td>\n",
       "      <td>0</td>\n",
       "      <td>0</td>\n",
       "      <td>0</td>\n",
       "      <td>0</td>\n",
       "      <td>0</td>\n",
       "      <td>0</td>\n",
       "      <td>January</td>\n",
       "      <td>Friday</td>\n",
       "    </tr>\n",
       "  </tbody>\n",
       "</table>\n",
       "</div>"
      ],
      "text/plain": [
       "    Collision ID       Date      Time   Borough           Street Name  \\\n",
       "4        4380940 2021-01-01  07:40:00  Brooklyn        Cortelyou Road   \n",
       "8        4381082 2021-01-01  22:15:00  Brooklyn          Utica Avenue   \n",
       "10       4380780 2021-01-01  03:00:00    Queens            230 Street   \n",
       "15       4381013 2021-01-01  00:25:00    Queens             21 Street   \n",
       "17       4380783 2021-01-01  06:45:00    Queens  Brookville Boulevard   \n",
       "\n",
       "            Cross Street Contributing Factor       Vehicle Type  \\\n",
       "4       Mc Donald Avenue         Unspecified  Passenger Vehicle   \n",
       "8   East New York Avenue         Unspecified  Passenger Vehicle   \n",
       "10            148 Avenue         Unspecified  Passenger Vehicle   \n",
       "15             21 Avenue         Fell Asleep  Passenger Vehicle   \n",
       "17    Rockaway Boulevard   Pavement Slippery  Passenger Vehicle   \n",
       "\n",
       "    Persons Injured  Persons Killed  Pedestrians Injured  Pedestrians Killed  \\\n",
       "4               0.0               0                    0                   0   \n",
       "8               0.0               0                    0                   0   \n",
       "10              0.0               0                    0                   0   \n",
       "15              0.0               0                    0                   0   \n",
       "17              0.0               0                    0                   0   \n",
       "\n",
       "    Cyclists Injured  Cyclists Killed  Motorists Injured  Motorists Killed  \\\n",
       "4                  0                0                  0                 0   \n",
       "8                  0                0                  0                 0   \n",
       "10                 0                0                  0                 0   \n",
       "15                 0                0                  0                 0   \n",
       "17                 0                0                  0                 0   \n",
       "\n",
       "      Month Day_Week  \n",
       "4   January   Friday  \n",
       "8   January   Friday  \n",
       "10  January   Friday  \n",
       "15  January   Friday  \n",
       "17  January   Friday  "
      ]
     },
     "execution_count": 18,
     "metadata": {},
     "output_type": "execute_result"
    }
   ],
   "source": [
    "df['Day_Week'] = pd.to_datetime(df['Date']).dt.day_name()\n",
    "df.head(5)"
   ]
  },
  {
   "cell_type": "code",
   "execution_count": 19,
   "id": "f01f734e-3529-46f4-ad9b-886257d03592",
   "metadata": {},
   "outputs": [
    {
     "data": {
      "text/plain": [
       "Month\n",
       "April         8717\n",
       "August        8650\n",
       "December      8040\n",
       "February      9681\n",
       "January      10708\n",
       "July          8603\n",
       "June          9160\n",
       "March        11714\n",
       "May           9001\n",
       "November      8346\n",
       "October       9052\n",
       "September     8889\n",
       "dtype: int64"
      ]
     },
     "execution_count": 19,
     "metadata": {},
     "output_type": "execute_result"
    }
   ],
   "source": [
    "monthly_collisions = df.groupby('Month').size().sort_index()\n",
    "monthly_collisions"
   ]
  },
  {
   "cell_type": "code",
   "execution_count": 20,
   "id": "f7701cd4",
   "metadata": {},
   "outputs": [
    {
     "name": "stdout",
     "output_type": "stream",
     "text": [
      "<class 'pandas.core.frame.DataFrame'>\n",
      "Index: 110561 entries, 4 to 238420\n",
      "Data columns (total 18 columns):\n",
      " #   Column               Non-Null Count   Dtype         \n",
      "---  ------               --------------   -----         \n",
      " 0   Collision ID         110561 non-null  int64         \n",
      " 1   Date                 110561 non-null  datetime64[ns]\n",
      " 2   Time                 110561 non-null  object        \n",
      " 3   Borough              110561 non-null  object        \n",
      " 4   Street Name          110561 non-null  object        \n",
      " 5   Cross Street         110561 non-null  object        \n",
      " 6   Contributing Factor  110561 non-null  object        \n",
      " 7   Vehicle Type         110561 non-null  object        \n",
      " 8   Persons Injured      110561 non-null  float64       \n",
      " 9   Persons Killed       110561 non-null  int64         \n",
      " 10  Pedestrians Injured  110561 non-null  int64         \n",
      " 11  Pedestrians Killed   110561 non-null  int64         \n",
      " 12  Cyclists Injured     110561 non-null  int64         \n",
      " 13  Cyclists Killed      110561 non-null  int64         \n",
      " 14  Motorists Injured    110561 non-null  int64         \n",
      " 15  Motorists Killed     110561 non-null  int64         \n",
      " 16  Month                110561 non-null  object        \n",
      " 17  Day_Week             110561 non-null  object        \n",
      "dtypes: datetime64[ns](1), float64(1), int64(8), object(8)\n",
      "memory usage: 16.0+ MB\n"
     ]
    }
   ],
   "source": [
    "df.info()"
   ]
  },
  {
   "cell_type": "code",
   "execution_count": 21,
   "id": "f3922d6b",
   "metadata": {},
   "outputs": [
    {
     "data": {
      "text/plain": [
       "<Axes: xlabel='Day_Week'>"
      ]
     },
     "execution_count": 21,
     "metadata": {},
     "output_type": "execute_result"
    },
    {
     "data": {
      "image/png": "[encoded data removed]",
      "text/plain": [
       "<Figure size 640x480 with 1 Axes>"
      ]
     },
     "metadata": {},
     "output_type": "display_data"
    }
   ],
   "source": [
    "daily_collisions = df.groupby('Day_Week').size()\n",
    "daily_collisions.plot(kind='line')"
   ]
  },
  {
   "cell_type": "code",
   "execution_count": 22,
   "id": "b79956fa-81cb-43ee-977d-ea28ea5830b0",
   "metadata": {},
   "outputs": [
    {
     "data": {
      "text/plain": [
       "<Axes: title={'center': 'Collisions Over Time'}, xlabel='Date'>"
      ]
     },
     "execution_count": 22,
     "metadata": {},
     "output_type": "execute_result"
    },
    {
     "data": {
      "image/png": "[encoded data removed]",
      "text/plain": [
       "<Figure size 640x480 with 1 Axes>"
      ]
     },
     "metadata": {},
     "output_type": "display_data"
    }
   ],
   "source": [
    "collisions_by_date = df.groupby('Date').size()\n",
    "collisions_by_date.plot(title='Collisions Over Time')"
   ]
  },
  {
   "cell_type": "code",
   "execution_count": 23,
   "id": "b88f8760",
   "metadata": {},
   "outputs": [
    {
     "data": {
      "text/plain": [
       "<Axes: title={'center': 'Top Contributing Factors'}, ylabel='Contributing Factor'>"
      ]
     },
     "execution_count": 23,
     "metadata": {},
     "output_type": "execute_result"
    },
    {
     "data": {
      "image/png": "[encoded data removed]",
      "text/plain": [
       "<Figure size 640x480 with 1 Axes>"
      ]
     },
     "metadata": {},
     "output_type": "display_data"
    }
   ],
   "source": [
    "factor_counts = df['Contributing Factor'].value_counts().sort_values()\n",
    "factor_counts.head(10).plot(kind='barh', title='Top Contributing Factors')"
   ]
  },
  {
   "cell_type": "code",
   "execution_count": 24,
   "id": "0bb487e9",
   "metadata": {},
   "outputs": [
    {
     "data": {
      "text/plain": [
       "<Axes: title={'center': 'Collisions by Hour'}, xlabel='Hour'>"
      ]
     },
     "execution_count": 24,
     "metadata": {},
     "output_type": "execute_result"
    },
    {
     "data": {
      "image/png": "[encoded data removed]",
      "text/plain": [
       "<Figure size 640x480 with 1 Axes>"
      ]
     },
     "metadata": {},
     "output_type": "display_data"
    }
   ],
   "source": [
    "df['Hour'] = pd.to_datetime(df['Time'], format='%H:%M:%S').dt.hour\n",
    "collisions_by_hour = df.groupby('Hour').size()\n",
    "collisions_by_hour.plot(kind='bar', title='Collisions by Hour')\n"
   ]
  },
  {
   "cell_type": "code",
   "execution_count": 25,
   "id": "ad88514a",
   "metadata": {},
   "outputs": [
    {
     "data": {
      "text/plain": [
       "<Axes: >"
      ]
     },
     "execution_count": 25,
     "metadata": {},
     "output_type": "execute_result"
    },
    {
     "data": {
      "image/png": "[encoded data removed]",
      "text/plain": [
       "<Figure size 640x480 with 1 Axes>"
      ]
     },
     "metadata": {},
     "output_type": "display_data"
    }
   ],
   "source": [
    "df['Day_or_Night'] = df['Hour'].apply(lambda x: 'Day' if 0 <= x < 12 else 'Night')\n",
    "collisions_by_light = df.groupby('Day_or_Night').size()\n",
    "collisions_by_light.plot(kind='pie')"
   ]
  },
  {
   "cell_type": "code",
   "execution_count": null,
   "id": "3a8e4234",
   "metadata": {},
   "outputs": [],
   "source": []
  }
 ],
 "metadata": {
  "kernelspec": {
   "display_name": "Python 3",
   "language": "python",
   "name": "python3"
  },
  "language_info": {
   "codemirror_mode": {
    "name": "ipython",
    "version": 3
   },
   "file_extension": ".py",
   "mimetype": "text/x-python",
   "name": "python",
   "nbconvert_exporter": "python",
   "pygments_lexer": "ipython3",
   "version": "3.12.1"
  }
 },
 "nbformat": 4,
 "nbformat_minor": 5
}
